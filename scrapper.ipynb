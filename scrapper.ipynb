{
 "cells": [
  {
   "cell_type": "code",
   "execution_count": 4,
   "id": "e6405984",
   "metadata": {},
   "outputs": [],
   "source": [
    "import requests\n",
    "from bs4 import BeautifulSoup\n",
    "import csv\n",
    "\n",
    "class ProjectsAndTendersScraper:\n",
    "    def __init__(self, base_url):\n",
    "        self.base_url = base_url\n",
    "\n",
    "    def fetch_data(self):\n",
    "        response = requests.get(self.base_url)\n",
    "        if response.status_code == 200:\n",
    "            return response.content\n",
    "        return None\n",
    "\n",
    "    def parse_data(self, html_content):\n",
    "        data = []\n",
    "        soup = BeautifulSoup(html_content, \"html.parser\")\n",
    "        \n",
    "        # Implement your parsing logic here\n",
    "        # Find and extract relevant tender details from the HTML content\n",
    "        # Append extracted data to the 'data' list\n",
    "        \n",
    "        return data\n",
    "\n",
    "    def save_to_csv(self, data, filename):\n",
    "        with open(filename, 'w', newline='', encoding='utf-8') as csvfile:\n",
    "            writer = csv.writer(csvfile)\n",
    "            writer.writerow(['Tender Name', 'Organization', ...])  # Write header\n",
    "            writer.writerows(data)\n"
   ]
  }
 ],
 "metadata": {
  "kernelspec": {
   "display_name": "Python 3 (ipykernel)",
   "language": "python",
   "name": "python3"
  },
  "language_info": {
   "codemirror_mode": {
    "name": "ipython",
    "version": 3
   },
   "file_extension": ".py",
   "mimetype": "text/x-python",
   "name": "python",
   "nbconvert_exporter": "python",
   "pygments_lexer": "ipython3",
   "version": "3.9.13"
  }
 },
 "nbformat": 4,
 "nbformat_minor": 5
}
